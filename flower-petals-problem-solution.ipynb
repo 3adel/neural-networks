{
 "cells": [
  {
   "cell_type": "code",
   "execution_count": 83,
   "metadata": {},
   "outputs": [],
   "source": [
    "#show plot inline\n",
    "%matplotlib inline"
   ]
  },
  {
   "cell_type": "code",
   "execution_count": 84,
   "metadata": {},
   "outputs": [],
   "source": [
    "from matplotlib import pyplot as plt\n",
    "import numpy as np"
   ]
  },
  {
   "cell_type": "code",
   "execution_count": 85,
   "metadata": {},
   "outputs": [],
   "source": [
    "#import flower data\n",
    "# each point is length, width, type[0, 1]\n",
    "data = [[3,   1.5, 1],\n",
    "        [2,   1,   0],\n",
    "        [4,   1.5, 1],\n",
    "        [3,   1,   0],\n",
    "        [3.5, .5,  1],\n",
    "        [2,   .5,  0],\n",
    "        [5.5, 1,   1],\n",
    "        [1,   1,   0],\n",
    "       ]"
   ]
  },
  {
   "cell_type": "code",
   "execution_count": 91,
   "metadata": {
    "scrolled": true
   },
   "outputs": [],
   "source": [
    "#neural network architecture \n",
    "#       o  flower type \n",
    "#      / \\ w1, w2, b\n",
    "#     o   o length, width\n",
    "w1 = np.random.randn()\n",
    "w2 = np.random.randn()\n",
    "b = np.random.randn()"
   ]
  },
  {
   "cell_type": "code",
   "execution_count": 92,
   "metadata": {
    "scrolled": true
   },
   "outputs": [],
   "source": [
    "#now we need an activation function. Sigmoid is a good choice because our expected flower type being 0 or 1, a sigmoid activation function is a good choice \n",
    "def sigmoid(x):\n",
    "    return 1/(1 + np.exp(-x))\n",
    "\n",
    "#we also need the derivative of sigmoid(x)\n",
    "def sigmoid_p(x):\n",
    "    return sigmoid(x) * (1 - sigmoid(x))\n",
    "    \n",
    "    "
   ]
  },
  {
   "cell_type": "code",
   "execution_count": 93,
   "metadata": {},
   "outputs": [
    {
     "data": {
      "text/plain": [
       "[<matplotlib.lines.Line2D at 0x11de36208>]"
      ]
     },
     "execution_count": 93,
     "metadata": {},
     "output_type": "execute_result"
    },
    {
     "data": {
      "image/png": "[encoded data removed]",
      "text/plain": [
       "<Figure size 432x288 with 1 Axes>"
      ]
     },
     "metadata": {
      "needs_background": "light"
     },
     "output_type": "display_data"
    }
   ],
   "source": [
    "#let's try to plot sigmoid(x)\n",
    "T = np.linspace(-6, 6, 100)\n",
    "Y = sigmoid(T)\n",
    "YS = sigmoid_p(T)\n",
    "plt.plot(T, Y)\n",
    "plt.plot(T, YS)"
   ]
  },
  {
   "cell_type": "code",
   "execution_count": 94,
   "metadata": {},
   "outputs": [
    {
     "data": {
      "image/png": "[encoded data removed]",
      "text/plain": [
       "<Figure size 432x288 with 1 Axes>"
      ]
     },
     "metadata": {
      "needs_background": "light"
     },
     "output_type": "display_data"
    }
   ],
   "source": [
    "# let's scatter plot our data\n",
    "plt.axis([0, 7, 0, 7])\n",
    "plt.grid()\n",
    "for i in range(len(data)):\n",
    "    point = data[i]\n",
    "    color = \"r\"\n",
    "    if point[2] == 0:\n",
    "        color = \"b\"\n",
    "    plt.scatter(point[0], point[1], c = color)"
   ]
  },
  {
   "cell_type": "code",
   "execution_count": null,
   "metadata": {
    "scrolled": false
   },
   "outputs": [
    {
     "data": {
      "text/plain": [
       "[<matplotlib.lines.Line2D at 0x126157d68>]"
      ]
     },
     "execution_count": 111,
     "metadata": {},
     "output_type": "execute_result"
    }
   ],
   "source": [
    "#training loop steps: \n",
    "# 1. Loop over the data many times\n",
    "# 2. Pick out a random point from the data\n",
    "# 3. Run the random point through the network \n",
    "# 4. See what it should have been (calculate the cost)\n",
    "# 5. Take the derivative of the cost with respect to the network parameters ws, b\n",
    "# 6. Use the result in 5 to update the network parameters ws, b by substracting it and as a result decreasing the cost\n",
    "# 7. And if we see enough points, we're gonna get better and better predictions\n",
    "\n",
    "learning_rate = 0.001\n",
    "costs = []\n",
    "for i in range(50000):\n",
    "    #random index to pick random data point\n",
    "    ri = np.random.randint(len(data))\n",
    "    point = data[ri]\n",
    "    \n",
    "    #let's feed the point into the network\n",
    "    z = point[0] * w1 + point[1] * w2 + b\n",
    "    #apply activation function\n",
    "    pred = sigmoid(z)\n",
    "    \n",
    "    target = point[2]\n",
    "    cost = np.square(pred - target)\n",
    "    \n",
    "    costs.append(cost)\n",
    "    \n",
    "    #let's calculate the deriv of cost with respect to ws and b\n",
    "    dcost_pred = 2*(pred - target) #power rule\n",
    "    dpred_z = sigmoid_p(z)\n",
    "    dz_dw1 = point[0]\n",
    "    dz_dw2 = point[1]\n",
    "    dz_b = 1\n",
    "    \n",
    "    dcost_dz = dcost_pred * dpred_z\n",
    "    \n",
    "    #let's chain them. Get the deriv of the cost to each one of our prarameterss\n",
    "    dcost_dw1 = dcost_dz * dz_dw1 \n",
    "    dcost_dw2 = dcost_dz * dz_dw2\n",
    "    dcost_db = dcost_dz * dz_b\n",
    "    \n",
    "    w1 = w1 - learning_rate * dcost_dw1\n",
    "    w2 = w2 - learning_rate * dcost_dw2\n",
    "    b = b - learning_rate * dcost_db\n",
    "\n",
    "plt.plot(costs)"
   ]
  },
  {
   "cell_type": "code",
   "execution_count": null,
   "metadata": {},
   "outputs": [],
   "source": []
  },
  {
   "cell_type": "code",
   "execution_count": null,
   "metadata": {},
   "outputs": [],
   "source": []
  }
 ],
 "metadata": {
  "kernelspec": {
   "display_name": "Python 3",
   "language": "python",
   "name": "python3"
  },
  "language_info": {
   "codemirror_mode": {
    "name": "ipython",
    "version": 3
   },
   "file_extension": ".py",
   "mimetype": "text/x-python",
   "name": "python",
   "nbconvert_exporter": "python",
   "pygments_lexer": "ipython3",
   "version": "3.7.1"
  }
 },
 "nbformat": 4,
 "nbformat_minor": 2
}
